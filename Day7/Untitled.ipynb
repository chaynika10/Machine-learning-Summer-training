{
 "cells": [
  {
   "cell_type": "markdown",
   "id": "7c3dea4c",
   "metadata": {},
   "source": [
    "## Importing libraries"
   ]
  },
  {
   "cell_type": "code",
   "execution_count": 1,
   "id": "74ab73b7",
   "metadata": {},
   "outputs": [
    {
     "name": "stderr",
     "output_type": "stream",
     "text": [
      "C:\\Users\\chayn\\AppData\\Local\\Programs\\Python\\Python310\\lib\\site-packages\\tqdm\\auto.py:22: TqdmWarning: IProgress not found. Please update jupyter and ipywidgets. See https://ipywidgets.readthedocs.io/en/stable/user_install.html\n",
      "  from .autonotebook import tqdm as notebook_tqdm\n"
     ]
    }
   ],
   "source": [
    "from fastai import *\n",
    "from fastai.vision.all import *\n",
    "from fastai.metrics import error_rate\n",
    "import os\n",
    "import pandas as pd\n",
    "import numpy as np\n",
    "from numpy import *\n",
    "import matplotlib.pyplot as plt\n",
    "import seaborn as sns\n",
    "import cv2\n",
    "from pathlib import Path\n",
    "\n",
    "# from fastai.vision.data import ImageDataLoaders\n"
   ]
  },
  {
   "cell_type": "code",
   "execution_count": 9,
   "id": "e32cd303",
   "metadata": {},
   "outputs": [
    {
     "data": {
      "text/plain": [
       "(#6) [Path('dataset/seg_train/buildings'),Path('dataset/seg_train/forest'),Path('dataset/seg_train/glacier'),Path('dataset/seg_train/mountain'),Path('dataset/seg_train/sea'),Path('dataset/seg_train/street')]"
      ]
     },
     "execution_count": 9,
     "metadata": {},
     "output_type": "execute_result"
    }
   ],
   "source": [
    "x  = 'dataset/'\n",
    "path = Path(x)\n",
    "path.ls()\n"
   ]
  },
  {
   "cell_type": "code",
   "execution_count": 11,
   "id": "a6418750",
   "metadata": {},
   "outputs": [
    {
     "ename": "SyntaxError",
     "evalue": "positional argument follows keyword argument (2475565197.py, line 3)",
     "output_type": "error",
     "traceback": [
      "\u001b[1;36m  Input \u001b[1;32mIn [11]\u001b[1;36m\u001b[0m\n\u001b[1;33m    ds_tfms=aug_transforms(), size=(256,256), bs=32, num_workers= 0, shuffle=False, normalize(imagenet_stats))\u001b[0m\n\u001b[1;37m                                                                                                             ^\u001b[0m\n\u001b[1;31mSyntaxError\u001b[0m\u001b[1;31m:\u001b[0m positional argument follows keyword argument\n"
     ]
    }
   ],
   "source": [
    "np.random.seed(40)\n",
    "data = ImageDataLoaders.from_folder(path, train = '.', valid_pct=0.2,\n",
    "        ds_tfms=aug_transforms(), size=(256,256), bs=32, num_workers= 0, shuffle=False, normalize(imagenet_stats))"
   ]
  },
  {
   "cell_type": "code",
   "execution_count": null,
   "id": "5fdc8b29",
   "metadata": {},
   "outputs": [],
   "source": []
  },
  {
   "cell_type": "code",
   "execution_count": null,
   "id": "dc5c608d",
   "metadata": {},
   "outputs": [],
   "source": []
  }
 ],
 "metadata": {
  "kernelspec": {
   "display_name": "Python 3 (ipykernel)",
   "language": "python",
   "name": "python3"
  },
  "language_info": {
   "codemirror_mode": {
    "name": "ipython",
    "version": 3
   },
   "file_extension": ".py",
   "mimetype": "text/x-python",
   "name": "python",
   "nbconvert_exporter": "python",
   "pygments_lexer": "ipython3",
   "version": "3.10.4"
  }
 },
 "nbformat": 4,
 "nbformat_minor": 5
}
